{
 "cells": [
  {
   "cell_type": "code",
   "execution_count": 1,
   "id": "d83ead11",
   "metadata": {},
   "outputs": [],
   "source": [
    "import re"
   ]
  },
  {
   "cell_type": "code",
   "execution_count": 8,
   "id": "82ae70f6",
   "metadata": {},
   "outputs": [
    {
     "name": "stdout",
     "output_type": "stream",
     "text": [
      "['h', 'e', 'e', 'i', 'a', 'i', 'i', 'h', 'e', 'a', 'i']\n"
     ]
    }
   ],
   "source": [
    "txt=\"There is rain in the Spain\"\n",
    "x=re.findall(\"[a-m]\",txt)\n",
    "print(x)"
   ]
  },
  {
   "cell_type": "code",
   "execution_count": 15,
   "id": "d4bc6972",
   "metadata": {},
   "outputs": [
    {
     "name": "stdout",
     "output_type": "stream",
     "text": [
      "['T', 'h', 'e', 'r', 'e', ' ', 'i', 's', ' ', 'r', 'a', 'i', 'n', ' ', 'i', 'n', ' ', 't', 'h', 'e', ' ', 'S', 'p', 'a', 'i', 'n']\n",
      "['5', '9']\n"
     ]
    }
   ],
   "source": [
    "txt=\"There is rain 59in the Spain\"\n",
    "x=re.findall(\"\\D\",txt)\n",
    "z=re.findall(\"\\d\",txt)\n",
    "print(x)\n",
    "print(z)"
   ]
  },
  {
   "cell_type": "code",
   "execution_count": 12,
   "id": "fa8945a6",
   "metadata": {},
   "outputs": [
    {
     "name": "stdout",
     "output_type": "stream",
     "text": [
      "['T', 'h', 'e', 'e', 'i', 'a', 'i', 'i', 'h', 'e', 'S', 'a', 'i']\n"
     ]
    }
   ],
   "source": [
    "txt=\"There is rain in the Spain\"\n",
    "x=re.findall(\"[A-Za-m]\",txt)\n",
    "print(x)"
   ]
  },
  {
   "cell_type": "code",
   "execution_count": 19,
   "id": "66c5c9df",
   "metadata": {},
   "outputs": [
    {
     "name": "stdout",
     "output_type": "stream",
     "text": [
      "['T']\n"
     ]
    }
   ],
   "source": [
    "txt=\"There is rain in the Spain\"\n",
    "x=re.findall(\"^T\",txt)\n",
    "print(x)"
   ]
  },
  {
   "cell_type": "code",
   "execution_count": null,
   "id": "967790b6",
   "metadata": {},
   "outputs": [],
   "source": []
  }
 ],
 "metadata": {
  "kernelspec": {
   "display_name": "Python 3",
   "language": "python",
   "name": "python3"
  },
  "language_info": {
   "codemirror_mode": {
    "name": "ipython",
    "version": 3
   },
   "file_extension": ".py",
   "mimetype": "text/x-python",
   "name": "python",
   "nbconvert_exporter": "python",
   "pygments_lexer": "ipython3",
   "version": "3.8.8"
  }
 },
 "nbformat": 4,
 "nbformat_minor": 5
}
